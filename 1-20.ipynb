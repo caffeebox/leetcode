{
 "cells": [
  {
   "cell_type": "markdown",
   "metadata": {},
   "source": [
    "### 1. 两数之和"
   ]
  },
  {
   "cell_type": "markdown",
   "metadata": {},
   "source": [
    "#### list遍历方法"
   ]
  },
  {
   "cell_type": "markdown",
   "metadata": {},
   "source": [
    "python list 遍历方法"
   ]
  },
  {
   "cell_type": "code",
   "execution_count": null,
   "metadata": {
    "ExecuteTime": {
     "end_time": "2020-05-04T17:40:15.172550Z",
     "start_time": "2020-05-04T17:40:15.162690Z"
    }
   },
   "outputs": [],
   "source": [
    "list = [\"v0\", \"v1\"]\n",
    "# 方法1\n",
    "for val in list:\n",
    "    print(\"index {0}, value {1}\".format(list.index(val), val))\n",
    "    \n",
    "# 方法2\n",
    "for idx, val in enumerate(list):\n",
    "    print(\"index {0}, value {1}\".format(idx, val))\n",
    "\n",
    "# 方法3\n",
    "for idx in range(len(list)):\n",
    "    print(\"index {0}, value {1}\".format(idx, list[idx]))"
   ]
  },
  {
   "cell_type": "markdown",
   "metadata": {},
   "source": [
    "c++ 容器遍历方法"
   ]
  },
  {
   "cell_type": "code",
   "execution_count": null,
   "metadata": {
    "ExecuteTime": {
     "end_time": "2020-05-04T14:21:49.909555Z",
     "start_time": "2020-05-04T14:21:49.877071Z"
    }
   },
   "outputs": [],
   "source": [
    "#include <iostream>\n",
    "#include <vector>\n",
    "#include <string>\n",
    "using namespace std;\n",
    "vector<string> vv = {\"v0\", \"v1\"}"
   ]
  },
  {
   "cell_type": "code",
   "execution_count": null,
   "metadata": {
    "ExecuteTime": {
     "end_time": "2020-05-04T14:29:10.543042Z",
     "start_time": "2020-05-04T14:29:10.515876Z"
    }
   },
   "outputs": [],
   "source": [
    "using namespace std;\n",
    "//方法1\n",
    "for (auto val: vv){\n",
    "    cout << val << endl;\n",
    "}\n",
    "\n",
    "//方法2\n",
    "for (auto it=vv.begin(); it!=vv.end(); ++it){\n",
    "    cout << \"index \" << it-vv.begin() << \", value \" << *it << endl;\n",
    "}\n",
    "\n",
    "//方法3\n",
    "for (size_t i=0; i<vv.size(); ++i){\n",
    "    cout << \"index \" << i << \", value \" << vv[i] << endl;\n",
    "}"
   ]
  },
  {
   "cell_type": "markdown",
   "metadata": {},
   "source": [
    "#### size_t"
   ]
  },
  {
   "cell_type": "markdown",
   "metadata": {},
   "source": [
    "size_t是无符号类型，常被用于数组索引和循环计数"
   ]
  },
  {
   "cell_type": "markdown",
   "metadata": {},
   "source": [
    "在32位架构中"
   ]
  },
  {
   "cell_type": "code",
   "execution_count": null,
   "metadata": {},
   "outputs": [],
   "source": [
    "typedef unsigned int size_t;"
   ]
  },
  {
   "cell_type": "markdown",
   "metadata": {},
   "source": [
    "在64位架构中"
   ]
  },
  {
   "cell_type": "code",
   "execution_count": null,
   "metadata": {},
   "outputs": [],
   "source": [
    "typedef unsigned long size_t;"
   ]
  },
  {
   "cell_type": "markdown",
   "metadata": {},
   "source": [
    "#### list查找元素"
   ]
  },
  {
   "cell_type": "markdown",
   "metadata": {},
   "source": [
    "python，index返回找到元素的索引，失败抛出异常"
   ]
  },
  {
   "cell_type": "code",
   "execution_count": null,
   "metadata": {},
   "outputs": [],
   "source": [
    "list.index(val)"
   ]
  },
  {
   "cell_type": "markdown",
   "metadata": {},
   "source": [
    "c++，vector顺序容器，find返回找到元素的迭代器，失败返回end()迭代器"
   ]
  },
  {
   "cell_type": "code",
   "execution_count": null,
   "metadata": {},
   "outputs": [],
   "source": [
    "vector.find(begin(), end(), value)"
   ]
  },
  {
   "cell_type": "markdown",
   "metadata": {},
   "source": [
    "c++，map关联容器，find返回找到元素(pair)的迭代器，失败返回end()迭代器"
   ]
  },
  {
   "cell_type": "code",
   "execution_count": null,
   "metadata": {},
   "outputs": [],
   "source": [
    "map.find(key)"
   ]
  },
  {
   "cell_type": "markdown",
   "metadata": {},
   "source": [
    "### 7. 整数反转"
   ]
  },
  {
   "cell_type": "markdown",
   "metadata": {},
   "source": [
    "#### python类型转换"
   ]
  },
  {
   "cell_type": "markdown",
   "metadata": {},
   "source": [
    "python有5个标准数据类型：Numbers(数字), String(字符串), List(列表), Tuple(元组), Dictionary(字典)"
   ]
  },
  {
   "cell_type": "markdown",
   "metadata": {},
   "source": [
    "转化为整数(int)，支持str, float类型"
   ]
  },
  {
   "cell_type": "code",
   "execution_count": null,
   "metadata": {},
   "outputs": [],
   "source": [
    "int(-12.34)     # -12，保留符号和整数部分\n",
    "int(\"-12\")      # -12\n",
    "int(\"-12.34\")   # error，str只能包含+-号以及0-9数字"
   ]
  },
  {
   "cell_type": "markdown",
   "metadata": {},
   "source": [
    "整数和字符串转换中，涉及到进制转换，10进制以整数表示，2进制('0b')、8进制('0')、16进制('0x')以字符串形式表示"
   ]
  },
  {
   "cell_type": "code",
   "execution_count": null,
   "metadata": {},
   "outputs": [],
   "source": [
    "# 2/8/16进制转10进制\n",
    "int(\"0b1111\", 2) # 15\n",
    "int(\"017\", 8)    # 15\n",
    "int(\"0xf\", 16)   # 15\n",
    "\n",
    "# 10进制转2/8/16进制\n",
    "bin(15)    # \"0b1111\"\n",
    "oct(15)    # \"017\"\n",
    "hex(15)    # \"0xf\""
   ]
  },
  {
   "cell_type": "markdown",
   "metadata": {},
   "source": [
    "转化为浮点数(float)，支持str, int类型"
   ]
  },
  {
   "cell_type": "code",
   "execution_count": null,
   "metadata": {},
   "outputs": [],
   "source": [
    "float(12)          # 12.0，自动添加一位小数\n",
    "float(\"-12.34\")    # -12.34\n",
    "float(\"-12.34a\")   # error，str只能包含+-号、0-9数字和.小数点"
   ]
  },
  {
   "cell_type": "markdown",
   "metadata": {},
   "source": [
    "转化为字符串(str)，支持任意类型"
   ]
  },
  {
   "cell_type": "code",
   "execution_count": null,
   "metadata": {},
   "outputs": [],
   "source": [
    "str(12)                        # \"12\", 整数转str\n",
    "str(12.30)                     # \"12.3\"，浮点数转str，自动去掉末尾0\n",
    "\"\".join([\"hello\", \"world\"])    # \"helloworld\"，列表转str\n",
    "\",\".join((\"hello\", \"world\"))   # \"hello,world\"，元组转str\n",
    "# 使用json.dumps和jsons.loads实现标准数据类型和字符串的转换\n",
    "# 使用pickle实现所有类型与字符串的转换"
   ]
  },
  {
   "cell_type": "markdown",
   "metadata": {},
   "source": [
    "转化为列表(list)，支持序列类型，如str、tuple、dict、set等"
   ]
  },
  {
   "cell_type": "code",
   "execution_count": null,
   "metadata": {},
   "outputs": [],
   "source": [
    "list(\"hello\")        # ['h', 'e', 'l', 'l', 'o']，字符串转列表\n",
    "\"hello\".split('e')   # [\"h\", \"llo\"]，字符串转列表"
   ]
  },
  {
   "cell_type": "markdown",
   "metadata": {},
   "source": [
    "字典(dict)介绍几种初始化方法"
   ]
  },
  {
   "cell_type": "code",
   "execution_count": 3,
   "metadata": {
    "ExecuteTime": {
     "end_time": "2020-05-05T08:14:06.549872Z",
     "start_time": "2020-05-05T08:14:06.540307Z"
    }
   },
   "outputs": [],
   "source": [
    "# 方法1，直接创建\n",
    "d1 = {\"name\":\"Tom\", \"age\":40, \"weight\": 53.2}  \n",
    "\n",
    "# 方法2， 动态创建\n",
    "d2 = {}\n",
    "d2[\"name\"] = \"Tom\"\n",
    "d2[\"age\"] = 40\n",
    "d2[\"weight\"] = 53.2\n",
    "\n",
    "# 方法3，关键字创建，关键字必须为字符串\n",
    "d3 = dict(name=\"Tom\", age=40, weight=53.2)\n",
    "\n",
    "# 方法4，键值对创建\n",
    "d4 = dict(([\"name\", \"Tom\"], [\"age\", 40], [\"weight\", 53.2]))\n",
    "\n",
    "# 方法5，zip创建，类似于键值对，zip将对应维度数据打包成tuple,返回可迭代对象\n",
    "d5 = dict(zip([\"name\", \"age\", \"weight\"], [\"Tom\", 40, 53.2]))\n",
    "\n",
    "# 方法6，字典生成式\n",
    "d6 = {k:v for (k, v) in ([\"name\", \"Tom\"], [\"age\", 40], [\"weight\", 53.2])}"
   ]
  },
  {
   "cell_type": "markdown",
   "metadata": {},
   "source": [
    "#### c++数值极限"
   ]
  },
  {
   "cell_type": "markdown",
   "metadata": {},
   "source": [
    "定义于\"climits\"头文件: INT_MAX，UINT_MAX，CHAR_MIN，SHORT_MIN，LONG_MAX"
   ]
  }
 ],
 "metadata": {
  "kernelspec": {
   "display_name": "Python 3",
   "language": "python",
   "name": "python3"
  },
  "language_info": {
   "codemirror_mode": {
    "name": "ipython",
    "version": 3
   },
   "file_extension": ".py",
   "mimetype": "text/x-python",
   "name": "python",
   "nbconvert_exporter": "python",
   "pygments_lexer": "ipython3",
   "version": "3.7.3"
  },
  "toc": {
   "base_numbering": 1,
   "nav_menu": {},
   "number_sections": true,
   "sideBar": true,
   "skip_h1_title": false,
   "title_cell": "Table of Contents",
   "title_sidebar": "Contents",
   "toc_cell": false,
   "toc_position": {},
   "toc_section_display": true,
   "toc_window_display": false
  },
  "varInspector": {
   "cols": {
    "lenName": 16,
    "lenType": 16,
    "lenVar": 40
   },
   "kernels_config": {
    "python": {
     "delete_cmd_postfix": "",
     "delete_cmd_prefix": "del ",
     "library": "var_list.py",
     "varRefreshCmd": "print(var_dic_list())"
    },
    "r": {
     "delete_cmd_postfix": ") ",
     "delete_cmd_prefix": "rm(",
     "library": "var_list.r",
     "varRefreshCmd": "cat(var_dic_list()) "
    }
   },
   "types_to_exclude": [
    "module",
    "function",
    "builtin_function_or_method",
    "instance",
    "_Feature"
   ],
   "window_display": false
  }
 },
 "nbformat": 4,
 "nbformat_minor": 2
}
