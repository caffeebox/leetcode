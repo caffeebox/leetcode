{
 "cells": [
  {
   "cell_type": "markdown",
   "metadata": {},
   "source": [
    "### 1. 两数之和"
   ]
  },
  {
   "cell_type": "markdown",
   "metadata": {},
   "source": [
    "python list 遍历方法"
   ]
  },
  {
   "cell_type": "code",
   "execution_count": 1,
   "metadata": {
    "ExecuteTime": {
     "end_time": "2020-05-04T17:40:15.172550Z",
     "start_time": "2020-05-04T17:40:15.162690Z"
    }
   },
   "outputs": [
    {
     "name": "stdout",
     "output_type": "stream",
     "text": [
      "index 0, value v0\n",
      "index 1, value v1\n",
      "index 0, value v0\n",
      "index 1, value v1\n",
      "index 0, value v0\n",
      "index 1, value v1\n"
     ]
    }
   ],
   "source": [
    "list = [\"v0\", \"v1\"]\n",
    "# 方法1\n",
    "for val in list:\n",
    "    print(\"index {0}, value {1}\".format(list.index(val), val))\n",
    "    \n",
    "# 方法2\n",
    "for idx, val in enumerate(list):\n",
    "    print(\"index {0}, value {1}\".format(idx, val))\n",
    "\n",
    "# 方法3\n",
    "for idx in range(len(list)):\n",
    "    print(\"index {0}, value {1}\".format(idx, list[idx]))"
   ]
  },
  {
   "cell_type": "markdown",
   "metadata": {},
   "source": [
    "c++ 容器遍历方法"
   ]
  },
  {
   "cell_type": "code",
   "execution_count": 1,
   "metadata": {
    "ExecuteTime": {
     "end_time": "2020-05-04T14:21:49.909555Z",
     "start_time": "2020-05-04T14:21:49.877071Z"
    }
   },
   "outputs": [],
   "source": [
    "#include <iostream>\n",
    "#include <vector>\n",
    "#include <string>\n",
    "using namespace std;\n",
    "vector<string> vv = {\"v0\", \"v1\"}"
   ]
  },
  {
   "cell_type": "code",
   "execution_count": null,
   "metadata": {
    "ExecuteTime": {
     "end_time": "2020-05-04T14:29:10.543042Z",
     "start_time": "2020-05-04T14:29:10.515876Z"
    }
   },
   "outputs": [],
   "source": [
    "using namespace std;\n",
    "//方法1\n",
    "for (auto val: vv){\n",
    "    cout << val << endl;\n",
    "}\n",
    "\n",
    "//方法2\n",
    "for (auto it=vv.begin(); it!=vv.end(); ++it){\n",
    "    cout << \"index \" << it-vv.begin() << \", value \" << *it << endl;\n",
    "}\n",
    "\n",
    "//方法3\n",
    "for (size_t i=0; i<vv.size(); ++i){\n",
    "    cout << \"index \" << i << \", value \" << vv[i] << endl;\n",
    "}"
   ]
  },
  {
   "cell_type": "markdown",
   "metadata": {},
   "source": [
    "size_t是无符号类型，常被用于数组索引和循环计数"
   ]
  },
  {
   "cell_type": "markdown",
   "metadata": {},
   "source": [
    "在32位架构中"
   ]
  },
  {
   "cell_type": "code",
   "execution_count": null,
   "metadata": {},
   "outputs": [],
   "source": [
    "typedef unsigned int size_t;"
   ]
  },
  {
   "cell_type": "markdown",
   "metadata": {},
   "source": [
    "在64位架构中"
   ]
  },
  {
   "cell_type": "code",
   "execution_count": null,
   "metadata": {},
   "outputs": [],
   "source": [
    "typedef unsigned long size_t;"
   ]
  }
 ],
 "metadata": {
  "kernelspec": {
   "display_name": "Python 3",
   "language": "python",
   "name": "python3"
  },
  "language_info": {
   "codemirror_mode": {
    "name": "ipython",
    "version": 3
   },
   "file_extension": ".py",
   "mimetype": "text/x-python",
   "name": "python",
   "nbconvert_exporter": "python",
   "pygments_lexer": "ipython3",
   "version": "3.7.3"
  },
  "toc": {
   "base_numbering": 1,
   "nav_menu": {},
   "number_sections": true,
   "sideBar": true,
   "skip_h1_title": false,
   "title_cell": "Table of Contents",
   "title_sidebar": "Contents",
   "toc_cell": false,
   "toc_position": {},
   "toc_section_display": true,
   "toc_window_display": false
  },
  "varInspector": {
   "cols": {
    "lenName": 16,
    "lenType": 16,
    "lenVar": 40
   },
   "kernels_config": {
    "python": {
     "delete_cmd_postfix": "",
     "delete_cmd_prefix": "del ",
     "library": "var_list.py",
     "varRefreshCmd": "print(var_dic_list())"
    },
    "r": {
     "delete_cmd_postfix": ") ",
     "delete_cmd_prefix": "rm(",
     "library": "var_list.r",
     "varRefreshCmd": "cat(var_dic_list()) "
    }
   },
   "types_to_exclude": [
    "module",
    "function",
    "builtin_function_or_method",
    "instance",
    "_Feature"
   ],
   "window_display": false
  }
 },
 "nbformat": 4,
 "nbformat_minor": 2
}
